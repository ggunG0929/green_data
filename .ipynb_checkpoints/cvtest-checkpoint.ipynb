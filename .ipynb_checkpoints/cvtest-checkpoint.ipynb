{
 "cells": [
  {
   "cell_type": "markdown",
   "id": "ea507840",
   "metadata": {},
   "source": [
    "### 이미지 영상 처리 - opencv"
   ]
  },
  {
   "cell_type": "code",
   "execution_count": 2,
   "id": "964e3f20",
   "metadata": {},
   "outputs": [
    {
     "data": {
      "text/plain": [
       "True"
      ]
     },
     "execution_count": 2,
     "metadata": {},
     "output_type": "execute_result"
    }
   ],
   "source": [
    "import cv2\n",
    "img = cv2.imread(\"./source/activity.jpg\", cv2.IMREAD_COLOR)\n",
    "cv2.imshow('activity', img)\n",
    "cv2.waitKey(0)\n",
    "\n",
    "# gray style\n",
    "img_gray = cv2.cvtColor(img, cv2.COLOR_BGR2GRAY)\n",
    "cv2.imshow('activity', img_gray)\n",
    "cv2.waitKey(0)\n",
    "\n",
    "# 파일 쓰기\n",
    "cv2.imwrite(\"./source/activity2.jpg\", img_gray)"
   ]
  },
  {
   "cell_type": "code",
   "execution_count": 2,
   "id": "56e1bc47",
   "metadata": {},
   "outputs": [
    {
     "name": "stdout",
     "output_type": "stream",
     "text": [
      "Collecting opencv-python\n",
      "  Using cached opencv_python-4.7.0.72-cp37-abi3-win_amd64.whl (38.2 MB)\n",
      "Requirement already satisfied: numpy>=1.17.0 in c:\\programdata\\anaconda3\\lib\\site-packages (from opencv-python) (1.23.5)\n",
      "Installing collected packages: opencv-python\n",
      "Successfully installed opencv-python-4.7.0.72\n",
      "Note: you may need to restart the kernel to use updated packages.\n"
     ]
    }
   ],
   "source": [
    "pip install opencv-python"
   ]
  },
  {
   "cell_type": "code",
   "execution_count": null,
   "id": "1359dd0d",
   "metadata": {},
   "outputs": [],
   "source": []
  }
 ],
 "metadata": {
  "kernelspec": {
   "display_name": "Python 3 (ipykernel)",
   "language": "python",
   "name": "python3"
  },
  "language_info": {
   "codemirror_mode": {
    "name": "ipython",
    "version": 3
   },
   "file_extension": ".py",
   "mimetype": "text/x-python",
   "name": "python",
   "nbconvert_exporter": "python",
   "pygments_lexer": "ipython3",
   "version": "3.10.9"
  }
 },
 "nbformat": 4,
 "nbformat_minor": 5
}
